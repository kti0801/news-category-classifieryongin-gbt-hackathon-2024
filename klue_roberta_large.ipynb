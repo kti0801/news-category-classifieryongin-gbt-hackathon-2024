{
 "cells": [
  {
   "cell_type": "code",
   "execution_count": 1,
   "id": "9e640414-9077-425b-a84d-6f23d43de98e",
   "metadata": {},
   "outputs": [
    {
     "name": "stderr",
     "output_type": "stream",
     "text": [
      "/root/miniconda3/envs/py3.10/lib/python3.10/site-packages/requests/__init__.py:102: RequestsDependencyWarning: urllib3 (1.26.20) or chardet (5.2.0)/charset_normalizer (2.0.12) doesn't match a supported version!\n",
      "  warnings.warn(\"urllib3 ({}) or chardet ({})/charset_normalizer ({}) doesn't match a supported \"\n"
     ]
    }
   ],
   "source": [
    "import pandas as pd\n",
    "import numpy as np\n",
    "import re\n",
    "from sklearn.model_selection import train_test_split\n",
    "from sklearn.metrics import f1_score, accuracy_score\n",
    "from transformers import AutoTokenizer, AutoModel, AdamW, get_linear_schedule_with_warmup\n",
    "from torch.utils.data import Dataset, DataLoader\n",
    "import torch\n",
    "import torch.nn as nn\n",
    "from tqdm import tqdm\n",
    "from sklearn.utils.class_weight import compute_class_weight\n",
    "from sklearn.feature_extraction.text import TfidfVectorizer\n",
    "from transformers import AutoModelForSequenceClassification, AutoTokenizer, AutoConfig"
   ]
  },
  {
   "cell_type": "code",
   "execution_count": 2,
   "id": "10ae7278-b224-4688-b180-1ea0bbedbc14",
   "metadata": {},
   "outputs": [
    {
     "name": "stderr",
     "output_type": "stream",
     "text": [
      "Some weights of RobertaForSequenceClassification were not initialized from the model checkpoint at klue-roberta-large and are newly initialized: ['classifier.dense.bias', 'classifier.dense.weight', 'classifier.out_proj.bias', 'classifier.out_proj.weight']\n",
      "You should probably TRAIN this model on a down-stream task to be able to use it for predictions and inference.\n",
      "/tmp/ipykernel_88562/2922524691.py:143: FutureWarning: You are using `torch.load` with `weights_only=False` (the current default value), which uses the default pickle module implicitly. It is possible to construct malicious pickle data which will execute arbitrary code during unpickling (See https://github.com/pytorch/pytorch/blob/main/SECURITY.md#untrusted-models for more details). In a future release, the default value for `weights_only` will be flipped to `True`. This limits the functions that could be executed during unpickling. Arbitrary objects will no longer be allowed to be loaded via this mode unless they are explicitly allowlisted by the user via `torch.serialization.add_safe_globals`. We recommend you start setting `weights_only=True` for any use case where you don't have full control of the loaded file. Please open an issue on GitHub for any issues related to this experimental feature.\n",
      "  state_dict = torch.load(f\"{model_path}/pytorch_model.bin\")\n"
     ]
    },
    {
     "name": "stdout",
     "output_type": "stream",
     "text": [
      "Model loaded successfully!\n"
     ]
    },
    {
     "name": "stderr",
     "output_type": "stream",
     "text": [
      "Some weights of RobertaModel were not initialized from the model checkpoint at klue-roberta-large and are newly initialized: ['roberta.pooler.dense.bias', 'roberta.pooler.dense.weight']\n",
      "You should probably TRAIN this model on a down-stream task to be able to use it for predictions and inference.\n",
      "/root/miniconda3/envs/py3.10/lib/python3.10/site-packages/transformers/optimization.py:429: FutureWarning: This implementation of AdamW is deprecated and will be removed in a future version. Use the PyTorch implementation torch.optim.AdamW instead, or set `no_deprecation_warning=True` to disable this warning\n",
      "  warnings.warn(\n"
     ]
    }
   ],
   "source": [
    "pd.set_option('display.max_columns', None)\n",
    "pd.set_option('display.max_rows', None)\n",
    "\n",
    "def set_seed(seed=42):\n",
    "    np.random.seed(seed)\n",
    "    torch.manual_seed(seed)\n",
    "    if torch.cuda.is_available():\n",
    "        torch.cuda.manual_seed_all(seed)\n",
    "set_seed()\n",
    "\n",
    "class CFG:\n",
    "    max_len = 512\n",
    "    batch_size = 8  # Effective batch size will be batch_size * accumulation_steps\n",
    "    learning_rate = 2e-5  # Adjusted learning rate\n",
    "    epochs = 12  # You can adjust this based on your needs\n",
    "    device = torch.device('cuda:1' if torch.cuda.is_available() else 'cpu')\n",
    "    accumulation_steps = 4  # Gradient accumulation steps\n",
    "\n",
    "# 데이터 로드 및 전처리\n",
    "train_df = pd.read_csv(\"data/train.csv\")\n",
    "test_df = pd.read_csv(\"data/test.csv\")\n",
    "\n",
    "train_df.dropna(inplace=True)\n",
    "train_df.drop_duplicates(subset=['제목', '키워드'], keep='first', inplace=True)\n",
    "\n",
    "def normalize_title(text):\n",
    "    text = re.sub(r'\\s+', ' ', text).strip()\n",
    "    return text.strip()\n",
    "\n",
    "def normalize_keywords(text):\n",
    "    text = re.sub(r'[^가-힣\\s,]', '', text)\n",
    "    text = re.sub(r'\\s+', ' ', text).strip()\n",
    "    return text.strip()\n",
    "\n",
    "def clean_keywords(keywords):\n",
    "    keywords = keywords.split(',')\n",
    "    keywords = [keyword.strip() for keyword in keywords if keyword.strip()]\n",
    "    return ' '.join(keywords)\n",
    "\n",
    "train_df['title'] = train_df['제목'].apply(normalize_title)\n",
    "train_df['keywords'] = train_df['키워드'].apply(lambda x: clean_keywords(normalize_keywords(x)))\n",
    "train_df['text'] = train_df['title'] + ' [SEP] ' + train_df['keywords']\n",
    "\n",
    "test_df['title'] = test_df['제목'].apply(normalize_title)\n",
    "test_df['keywords'] = test_df['키워드'].apply(lambda x: clean_keywords(normalize_keywords(x)))\n",
    "test_df['text'] = test_df['title'] + ' [SEP] ' + test_df['keywords']\n",
    "\n",
    "# 레이블 인코딩\n",
    "label_encoder = {label: i for i, label in enumerate(train_df['분류'].unique())}\n",
    "train_df['label'] = train_df['분류'].map(label_encoder)\n",
    "\n",
    "# 학습 및 검증 데이터 분할\n",
    "train_df, val_df = train_test_split(train_df, test_size=0.2, stratify=train_df['분류'], random_state=42)\n",
    "\n",
    "# TF-IDF 벡터라이저 초기화 및 적용\n",
    "tfidf_vectorizer = TfidfVectorizer(max_features=1000)  # 상위 1000개 특징만 사용\n",
    "train_tfidf = tfidf_vectorizer.fit_transform(train_df['text'])\n",
    "val_tfidf = tfidf_vectorizer.transform(val_df['text'])\n",
    "test_tfidf = tfidf_vectorizer.transform(test_df['text'])\n",
    "\n",
    "class TfidfEnhancedDataset(Dataset):\n",
    "    def __init__(self, texts, tfidf_features, labels, tokenizer, max_len=512):\n",
    "        self.texts = texts\n",
    "        self.tfidf_features = tfidf_features\n",
    "        self.labels = labels\n",
    "        self.tokenizer = tokenizer\n",
    "        self.max_len = max_len\n",
    "    \n",
    "    def __len__(self):\n",
    "        return len(self.texts)\n",
    "    \n",
    "    def __getitem__(self, item):\n",
    "        text = str(self.texts[item])\n",
    "        tfidf_feature = torch.FloatTensor(self.tfidf_features[item].toarray().squeeze())\n",
    "        label = self.labels[item] if self.labels is not None else -1\n",
    "        \n",
    "        encoding = self.tokenizer.encode_plus(\n",
    "            text,\n",
    "            add_special_tokens=True,\n",
    "            max_length=self.max_len,\n",
    "            return_token_type_ids=False,\n",
    "            padding='max_length',\n",
    "            truncation=True,\n",
    "            return_attention_mask=True,\n",
    "            return_tensors='pt',\n",
    "        )\n",
    "        \n",
    "        return {\n",
    "            'text': text,\n",
    "            'input_ids': encoding['input_ids'].flatten(),\n",
    "            'attention_mask': encoding['attention_mask'].flatten(),\n",
    "            'tfidf_features': tfidf_feature,\n",
    "            'labels': torch.tensor(label, dtype=torch.long)\n",
    "        }\n",
    "\n",
    "class TfidfEnhancedClassifier(nn.Module):\n",
    "    def __init__(self, base_model_name, num_labels, tfidf_dim):\n",
    "        super(TfidfEnhancedClassifier, self).__init__()\n",
    "        self.base_model = AutoModel.from_pretrained(base_model_name, output_hidden_states=True)\n",
    "        self.dropout = nn.Dropout(0.1)\n",
    "        self.attention = nn.Linear(self.base_model.config.hidden_size, 1)\n",
    "        self.tfidf_layer = nn.Linear(tfidf_dim, self.base_model.config.hidden_size)\n",
    "        self.classifier = nn.Linear(self.base_model.config.hidden_size * 2, num_labels)\n",
    "    \n",
    "    def forward(self, input_ids, attention_mask, tfidf_features):\n",
    "        outputs = self.base_model(\n",
    "            input_ids=input_ids,\n",
    "            attention_mask=attention_mask\n",
    "        )\n",
    "        hidden_states = outputs.last_hidden_state\n",
    "        \n",
    "        attn_scores = self.attention(hidden_states).squeeze(-1)\n",
    "        attn_weights = torch.softmax(attn_scores, dim=-1)\n",
    "        context_vector = torch.sum(attn_weights.unsqueeze(-1) * hidden_states, dim=1)\n",
    "        \n",
    "        tfidf_vector = self.tfidf_layer(tfidf_features)\n",
    "        \n",
    "        combined_vector = torch.cat([context_vector, tfidf_vector], dim=1)\n",
    "        pooled_output = self.dropout(combined_vector)\n",
    "        logits = self.classifier(pooled_output)\n",
    "        \n",
    "        return logits\n",
    "\n",
    "model_path = \"klue-roberta-large\"  \n",
    "\n",
    "# 설정 로드 및 수정\n",
    "config = AutoConfig.from_pretrained(model_path)\n",
    "config.num_labels = len(label_encoder)  \n",
    "\n",
    "# 토크나이저 로드\n",
    "tokenizer = AutoTokenizer.from_pretrained(model_path)\n",
    "\n",
    "# 모델 생성\n",
    "model = AutoModelForSequenceClassification.from_pretrained(\n",
    "    model_path,\n",
    "    config=config\n",
    ")\n",
    "\n",
    "# 저장된 가중치 로드\n",
    "state_dict = torch.load(f\"{model_path}/pytorch_model.bin\")\n",
    "\n",
    "# 불필요한 키 제거\n",
    "for key in list(state_dict.keys()):\n",
    "    if key.startswith('lm_head') or key == 'roberta.embeddings.position_ids':\n",
    "        del state_dict[key]\n",
    "\n",
    "# 모델에 가중치 로드\n",
    "model.load_state_dict(state_dict, strict=False)\n",
    "\n",
    "# GPU로 모델 이동 (필요한 경우)\n",
    "model.to(CFG.device)\n",
    "\n",
    "print(\"Model loaded successfully!\")\n",
    "\n",
    "# 데이터셋 및 데이터로더 생성\n",
    "train_dataset = TfidfEnhancedDataset(train_df.text.tolist(), train_tfidf, train_df.label.tolist(), tokenizer, CFG.max_len)\n",
    "val_dataset = TfidfEnhancedDataset(val_df.text.tolist(), val_tfidf, val_df.label.tolist(), tokenizer, CFG.max_len)\n",
    "test_dataset = TfidfEnhancedDataset(test_df.text.tolist(), test_tfidf, None, tokenizer, CFG.max_len)\n",
    "\n",
    "train_loader = DataLoader(train_dataset, batch_size=CFG.batch_size, shuffle=True)\n",
    "val_loader = DataLoader(val_dataset, batch_size=CFG.batch_size, shuffle=False)\n",
    "test_loader = DataLoader(test_dataset, batch_size=CFG.batch_size, shuffle=False)\n",
    "\n",
    "# 모델 생성\n",
    "num_labels = len(label_encoder)\n",
    "tfidf_dim = train_tfidf.shape[1]\n",
    "model = TfidfEnhancedClassifier(model_path, num_labels, tfidf_dim).to(CFG.device)\n",
    "\n",
    "# 클래스 가중치 계산\n",
    "class_weights = compute_class_weight('balanced', classes=np.unique(train_df['label']), y=train_df['label'])\n",
    "class_weights = torch.tensor(class_weights, dtype=torch.float).to(CFG.device)\n",
    "\n",
    "# 손실 함수 및 옵티마이저 설정\n",
    "loss_fn = nn.CrossEntropyLoss(weight=class_weights)\n",
    "optimizer = AdamW(model.parameters(), lr=CFG.learning_rate)\n",
    "\n",
    "# 학습률 스케줄러 설정\n",
    "total_steps = len(train_loader) * CFG.epochs // CFG.accumulation_steps\n",
    "scheduler = get_linear_schedule_with_warmup(optimizer,\n",
    "                                            num_warmup_steps=int(0.1 * total_steps),\n",
    "                                            num_training_steps=total_steps)"
   ]
  },
  {
   "cell_type": "code",
   "execution_count": 3,
   "id": "162686df-4200-4cde-9e50-a69d9b8b678b",
   "metadata": {},
   "outputs": [
    {
     "name": "stderr",
     "output_type": "stream",
     "text": [
      "Epoch 1/12: 100%|███████████████████████████████████████████████████████████████████████████████████████████████████████████████████████| 5432/5432 [50:58<00:00,  1.78it/s]\n"
     ]
    },
    {
     "name": "stdout",
     "output_type": "stream",
     "text": [
      "Epoch 1/12, Train Loss: 0.5865\n"
     ]
    },
    {
     "name": "stderr",
     "output_type": "stream",
     "text": [
      "Validating: 100%|███████████████████████████████████████████████████████████████████████████████████████████████████████████████████████| 1358/1358 [04:27<00:00,  5.08it/s]\n"
     ]
    },
    {
     "name": "stdout",
     "output_type": "stream",
     "text": [
      "Validation Loss: 1.3702, Validation Accuracy: 0.5781, Validation F1 Score: 0.4330\n"
     ]
    },
    {
     "name": "stderr",
     "output_type": "stream",
     "text": [
      "Epoch 2/12: 100%|███████████████████████████████████████████████████████████████████████████████████████████████████████████████████████| 5432/5432 [50:59<00:00,  1.78it/s]\n"
     ]
    },
    {
     "name": "stdout",
     "output_type": "stream",
     "text": [
      "Epoch 2/12, Train Loss: 0.3124\n"
     ]
    },
    {
     "name": "stderr",
     "output_type": "stream",
     "text": [
      "Validating: 100%|███████████████████████████████████████████████████████████████████████████████████████████████████████████████████████| 1358/1358 [04:27<00:00,  5.08it/s]\n"
     ]
    },
    {
     "name": "stdout",
     "output_type": "stream",
     "text": [
      "Validation Loss: 1.1426, Validation Accuracy: 0.5846, Validation F1 Score: 0.4998\n"
     ]
    },
    {
     "name": "stderr",
     "output_type": "stream",
     "text": [
      "Epoch 3/12: 100%|███████████████████████████████████████████████████████████████████████████████████████████████████████████████████████| 5432/5432 [50:59<00:00,  1.78it/s]\n"
     ]
    },
    {
     "name": "stdout",
     "output_type": "stream",
     "text": [
      "Epoch 3/12, Train Loss: 0.2316\n"
     ]
    },
    {
     "name": "stderr",
     "output_type": "stream",
     "text": [
      "Validating: 100%|███████████████████████████████████████████████████████████████████████████████████████████████████████████████████████| 1358/1358 [04:27<00:00,  5.08it/s]\n"
     ]
    },
    {
     "name": "stdout",
     "output_type": "stream",
     "text": [
      "Validation Loss: 1.0139, Validation Accuracy: 0.6491, Validation F1 Score: 0.5721\n"
     ]
    },
    {
     "name": "stderr",
     "output_type": "stream",
     "text": [
      "Epoch 4/12: 100%|███████████████████████████████████████████████████████████████████████████████████████████████████████████████████████| 5432/5432 [50:59<00:00,  1.78it/s]\n"
     ]
    },
    {
     "name": "stdout",
     "output_type": "stream",
     "text": [
      "Epoch 4/12, Train Loss: 0.1776\n"
     ]
    },
    {
     "name": "stderr",
     "output_type": "stream",
     "text": [
      "Validating: 100%|███████████████████████████████████████████████████████████████████████████████████████████████████████████████████████| 1358/1358 [04:27<00:00,  5.08it/s]\n"
     ]
    },
    {
     "name": "stdout",
     "output_type": "stream",
     "text": [
      "Validation Loss: 0.9845, Validation Accuracy: 0.6207, Validation F1 Score: 0.5595\n"
     ]
    },
    {
     "name": "stderr",
     "output_type": "stream",
     "text": [
      "Epoch 5/12: 100%|███████████████████████████████████████████████████████████████████████████████████████████████████████████████████████| 5432/5432 [51:00<00:00,  1.78it/s]\n"
     ]
    },
    {
     "name": "stdout",
     "output_type": "stream",
     "text": [
      "Epoch 5/12, Train Loss: 0.1294\n"
     ]
    },
    {
     "name": "stderr",
     "output_type": "stream",
     "text": [
      "Validating: 100%|███████████████████████████████████████████████████████████████████████████████████████████████████████████████████████| 1358/1358 [04:27<00:00,  5.08it/s]\n"
     ]
    },
    {
     "name": "stdout",
     "output_type": "stream",
     "text": [
      "Validation Loss: 0.9702, Validation Accuracy: 0.7009, Validation F1 Score: 0.6174\n"
     ]
    },
    {
     "name": "stderr",
     "output_type": "stream",
     "text": [
      "Epoch 6/12: 100%|███████████████████████████████████████████████████████████████████████████████████████████████████████████████████████| 5432/5432 [50:59<00:00,  1.78it/s]\n"
     ]
    },
    {
     "name": "stdout",
     "output_type": "stream",
     "text": [
      "Epoch 6/12, Train Loss: 0.0979\n"
     ]
    },
    {
     "name": "stderr",
     "output_type": "stream",
     "text": [
      "Validating: 100%|███████████████████████████████████████████████████████████████████████████████████████████████████████████████████████| 1358/1358 [04:27<00:00,  5.08it/s]\n"
     ]
    },
    {
     "name": "stdout",
     "output_type": "stream",
     "text": [
      "Validation Loss: 0.9915, Validation Accuracy: 0.6673, Validation F1 Score: 0.6153\n"
     ]
    },
    {
     "name": "stderr",
     "output_type": "stream",
     "text": [
      "Epoch 7/12: 100%|███████████████████████████████████████████████████████████████████████████████████████████████████████████████████████| 5432/5432 [51:00<00:00,  1.78it/s]\n"
     ]
    },
    {
     "name": "stdout",
     "output_type": "stream",
     "text": [
      "Epoch 7/12, Train Loss: 0.0676\n"
     ]
    },
    {
     "name": "stderr",
     "output_type": "stream",
     "text": [
      "Validating: 100%|███████████████████████████████████████████████████████████████████████████████████████████████████████████████████████| 1358/1358 [04:27<00:00,  5.08it/s]\n"
     ]
    },
    {
     "name": "stdout",
     "output_type": "stream",
     "text": [
      "Validation Loss: 1.0753, Validation Accuracy: 0.7351, Validation F1 Score: 0.6388\n"
     ]
    },
    {
     "name": "stderr",
     "output_type": "stream",
     "text": [
      "Epoch 8/12: 100%|███████████████████████████████████████████████████████████████████████████████████████████████████████████████████████| 5432/5432 [51:00<00:00,  1.77it/s]\n"
     ]
    },
    {
     "name": "stdout",
     "output_type": "stream",
     "text": [
      "Epoch 8/12, Train Loss: 0.0477\n"
     ]
    },
    {
     "name": "stderr",
     "output_type": "stream",
     "text": [
      "Validating: 100%|███████████████████████████████████████████████████████████████████████████████████████████████████████████████████████| 1358/1358 [04:27<00:00,  5.08it/s]\n"
     ]
    },
    {
     "name": "stdout",
     "output_type": "stream",
     "text": [
      "Validation Loss: 1.0911, Validation Accuracy: 0.7359, Validation F1 Score: 0.6430\n"
     ]
    },
    {
     "name": "stderr",
     "output_type": "stream",
     "text": [
      "Epoch 9/12: 100%|███████████████████████████████████████████████████████████████████████████████████████████████████████████████████████| 5432/5432 [50:59<00:00,  1.78it/s]\n"
     ]
    },
    {
     "name": "stdout",
     "output_type": "stream",
     "text": [
      "Epoch 9/12, Train Loss: 0.0344\n"
     ]
    },
    {
     "name": "stderr",
     "output_type": "stream",
     "text": [
      "Validating: 100%|███████████████████████████████████████████████████████████████████████████████████████████████████████████████████████| 1358/1358 [04:27<00:00,  5.08it/s]\n"
     ]
    },
    {
     "name": "stdout",
     "output_type": "stream",
     "text": [
      "Validation Loss: 1.1614, Validation Accuracy: 0.7725, Validation F1 Score: 0.6643\n"
     ]
    },
    {
     "name": "stderr",
     "output_type": "stream",
     "text": [
      "Epoch 10/12:  59%|█████████████████████████████████████████████████████████████████████▎                                                | 3189/5432 [29:56<19:48,  1.89it/s]IOPub message rate exceeded.\n",
      "The Jupyter server will temporarily stop sending output\n",
      "to the client in order to avoid crashing it.\n",
      "To change this limit, set the config variable\n",
      "`--ServerApp.iopub_msg_rate_limit`.\n",
      "\n",
      "Current values:\n",
      "ServerApp.iopub_msg_rate_limit=1000.0 (msgs/sec)\n",
      "ServerApp.rate_limit_window=3.0 (secs)\n",
      "\n",
      "Epoch 12/12: 100%|██████████████████████████████████████████████████████████████████████████████████████████████████████████████████████| 5432/5432 [50:59<00:00,  1.78it/s]\n"
     ]
    },
    {
     "name": "stdout",
     "output_type": "stream",
     "text": [
      "Epoch 12/12, Train Loss: 0.0119\n"
     ]
    },
    {
     "name": "stderr",
     "output_type": "stream",
     "text": [
      "Validating: 100%|███████████████████████████████████████████████████████████████████████████████████████████████████████████████████████| 1358/1358 [04:27<00:00,  5.08it/s]"
     ]
    },
    {
     "name": "stdout",
     "output_type": "stream",
     "text": [
      "Validation Loss: 1.3102, Validation Accuracy: 0.8004, Validation F1 Score: 0.6796\n"
     ]
    },
    {
     "name": "stderr",
     "output_type": "stream",
     "text": [
      "\n"
     ]
    }
   ],
   "source": [
    "# 학습 루프\n",
    "for epoch in range(CFG.epochs):\n",
    "    model.train()\n",
    "    train_loss = 0\n",
    "    optimizer.zero_grad()\n",
    "    for idx, batch in enumerate(tqdm(train_loader, desc=f'Epoch {epoch + 1}/{CFG.epochs}')):\n",
    "        input_ids = batch['input_ids'].to(CFG.device)\n",
    "        attention_mask = batch['attention_mask'].to(CFG.device)\n",
    "        tfidf_features = batch['tfidf_features'].to(CFG.device)\n",
    "        labels = batch['labels'].to(CFG.device)\n",
    "        \n",
    "        outputs = model(input_ids, attention_mask=attention_mask, tfidf_features=tfidf_features)\n",
    "        loss = loss_fn(outputs, labels)\n",
    "        loss = loss / CFG.accumulation_steps\n",
    "        train_loss += loss.item()\n",
    "        \n",
    "        loss.backward()\n",
    "        \n",
    "        if (idx + 1) % CFG.accumulation_steps == 0 or (idx + 1) == len(train_loader):\n",
    "            optimizer.step()\n",
    "            scheduler.step()\n",
    "            optimizer.zero_grad()\n",
    "    \n",
    "    avg_train_loss = train_loss / len(train_loader)\n",
    "    print(f\"Epoch {epoch + 1}/{CFG.epochs}, Train Loss: {avg_train_loss:.4f}\")\n",
    "    # 검증\n",
    "    model.eval()\n",
    "    val_predictions = []\n",
    "    val_true_labels = []\n",
    "    val_loss = 0\n",
    "    \n",
    "    with torch.no_grad():\n",
    "        for batch in tqdm(val_loader, desc='Validating'):\n",
    "            input_ids = batch['input_ids'].to(CFG.device)\n",
    "            attention_mask = batch['attention_mask'].to(CFG.device)\n",
    "            tfidf_features = batch['tfidf_features'].to(CFG.device)\n",
    "            labels = batch['labels'].to(CFG.device)\n",
    "            \n",
    "            outputs = model(input_ids, attention_mask=attention_mask, tfidf_features=tfidf_features)\n",
    "            loss = loss_fn(outputs, labels)\n",
    "            val_loss += loss.item()\n",
    "            \n",
    "            _, preds = torch.max(outputs, dim=1)\n",
    "            val_predictions.extend(preds.cpu().tolist())\n",
    "            val_true_labels.extend(labels.cpu().tolist())\n",
    "    \n",
    "    val_f1 = f1_score(val_true_labels, val_predictions, average='macro')\n",
    "    val_accuracy = accuracy_score(val_true_labels, val_predictions)\n",
    "    avg_val_loss = val_loss / len(val_loader)\n",
    "    print(f\"Validation Loss: {avg_val_loss:.4f}, Validation Accuracy: {val_accuracy:.4f}, Validation F1 Score: {val_f1:.4f}\")"
   ]
  },
  {
   "cell_type": "code",
   "execution_count": 7,
   "id": "7d5bdda6-5f05-4a99-8552-f16e4541fec5",
   "metadata": {},
   "outputs": [
    {
     "name": "stderr",
     "output_type": "stream",
     "text": [
      "Predicting: 100%|███████████████████████████████████████████████████████████████████████████████████████████████████████████████████████| 2926/2926 [09:35<00:00,  5.08it/s]"
     ]
    },
    {
     "name": "stdout",
     "output_type": "stream",
     "text": [
      "Prediction completed and submission file created.\n"
     ]
    },
    {
     "name": "stderr",
     "output_type": "stream",
     "text": [
      "\n"
     ]
    }
   ],
   "source": [
    "# 테스트 예측\n",
    "model.eval()\n",
    "test_predictions = []\n",
    "\n",
    "with torch.no_grad():\n",
    "    for batch in tqdm(test_loader, desc='Predicting'):\n",
    "        input_ids = batch['input_ids'].to(CFG.device)\n",
    "        attention_mask = batch['attention_mask'].to(CFG.device)\n",
    "        tfidf_features = batch['tfidf_features'].to(CFG.device)\n",
    "        \n",
    "        outputs = model(input_ids, attention_mask=attention_mask, tfidf_features=tfidf_features)\n",
    "        _, preds = torch.max(outputs, dim=1)\n",
    "        test_predictions.extend(preds.cpu().tolist())\n",
    "\n",
    "# 예측 결과 디코딩\n",
    "label_decoder = {i: label for label, i in label_encoder.items()}\n",
    "decoded_predictions = [label_decoder[pred] for pred in test_predictions]\n",
    "\n",
    "# 제출 파일 생성\n",
    "sample_submission = pd.read_csv(\"data/sample_submission.csv\")\n",
    "sample_submission[\"분류\"] = decoded_predictions\n",
    "sample_submission.to_csv(\"submission_klue_roberta_large.csv\", encoding='UTF-8-sig', index=False)\n",
    "\n",
    "print(\"Prediction completed and submission file created.\")"
   ]
  },
  {
   "cell_type": "code",
   "execution_count": 8,
   "id": "19318091-3085-4191-bd6f-df0a5b56822e",
   "metadata": {},
   "outputs": [
    {
     "name": "stdout",
     "output_type": "stream",
     "text": [
      "Model saved successfully.\n",
      "Optimizer state saved successfully.\n"
     ]
    }
   ],
   "source": [
    "# 모델 저장\n",
    "torch.save(model.state_dict(), 'klue_roberta_large_model.pth')\n",
    "print(\"Model saved successfully.\")\n",
    "\n",
    "# 옵티마이저 상태 저장 (선택사항)\n",
    "torch.save(optimizer.state_dict(), 'optimizer.pth')\n",
    "print(\"Optimizer state saved successfully.\")"
   ]
  }
 ],
 "metadata": {
  "kernelspec": {
   "display_name": "Python 3 (ipykernel)",
   "language": "python",
   "name": "python3"
  },
  "language_info": {
   "codemirror_mode": {
    "name": "ipython",
    "version": 3
   },
   "file_extension": ".py",
   "mimetype": "text/x-python",
   "name": "python",
   "nbconvert_exporter": "python",
   "pygments_lexer": "ipython3",
   "version": "3.10.13"
  }
 },
 "nbformat": 4,
 "nbformat_minor": 5
}
